{
 "cells": [
  {
   "cell_type": "markdown",
   "metadata": {},
   "source": [
    "Fertility Data Set \n",
    "Download: Data Folder, Data Set Description\n",
    "\n",
    "Abstract: 100 volunteers provide a semen sample analyzed according to the WHO 2010 criteria. Sperm concentration are related to socio-demographic data, environmental factors, health status, and life habits\n",
    "\n",
    "Data Set Characteristics:  \n",
    "\n",
    "Multivariate\n",
    "\n",
    "Number of Instances:\n",
    "\n",
    "100\n",
    "\n",
    "Area:\n",
    "\n",
    "Life\n",
    "\n",
    "Attribute Characteristics:\n",
    "\n",
    "Real\n",
    "\n",
    "Number of Attributes:\n",
    "\n",
    "10\n",
    "\n",
    "Date Donated\n",
    "\n",
    "2013-01-17\n",
    "\n",
    "Associated Tasks:\n",
    "\n",
    "Classification, Regression\n",
    "\n",
    "Missing Values?\n",
    "\n",
    "N/A\n",
    "\n",
    "Number of Web Hits:\n",
    "\n",
    "118629\n",
    "\n",
    "\n",
    "Source:\n",
    "\n",
    "David Gil, \n",
    "dgil '@' dtic.ua.es, \n",
    "Lucentia Research Group, Department of Computer Technology, University of Alicante \n",
    "\n",
    "Jose Luis Girela, \n",
    "girela '@' ua.es, \n",
    "Department of Biotechnology, University of Alicante\n",
    "\n",
    "\n",
    "Data Set Information:\n",
    "\n",
    "Provide all relevant information about your data set.\n",
    "\n",
    "# Attribute Information:\n",
    "\n",
    "Season in which the analysis was performed. 1) winter, 2) spring, 3) Summer, 4) fall. (-1, -0.33, 0.33, 1) \n",
    "\n",
    "Age at the time of analysis. 18-36 (0, 1) \n",
    "\n",
    "Childish diseases (ie , chicken pox, measles, mumps, polio)\t1) yes, 2) no. (0, 1) \n",
    "\n",
    "Accident or serious trauma 1) yes, 2) no. (0, 1) \n",
    "\n",
    "Surgical intervention 1) yes, 2) no. (0, 1) \n",
    "\n",
    "High fevers in the last year 1) less than three months ago, 2) more than three months ago, 3) no. (-1, 0, 1) \n",
    "\n",
    "Frequency of alcohol consumption 1) several times a day, 2) every day, 3) several times a week, 4) once a week, 5) hardly ever or never (0, 1) \n",
    "\n",
    "Smoking habit 1) never, 2) occasional 3) daily. (-1, 0, 1) \n",
    "\n",
    "Number of hours spent sitting per day ene-16\t(0, 1) \n",
    "\n",
    "Output: Diagnosis\tnormal (N), altered (O)\t\n",
    "\n"
   ]
  },
  {
   "cell_type": "code",
   "execution_count": 1,
   "metadata": {},
   "outputs": [
    {
     "ename": "ImportError",
     "evalue": "No module named keras",
     "output_type": "error",
     "traceback": [
      "\u001b[0;31m---------------------------------------------------------------------------\u001b[0m",
      "\u001b[0;31mImportError\u001b[0m                               Traceback (most recent call last)",
      "\u001b[0;32m<ipython-input-1-c74e2bd4ca71>\u001b[0m in \u001b[0;36m<module>\u001b[0;34m()\u001b[0m\n\u001b[0;32m----> 1\u001b[0;31m \u001b[0;32mimport\u001b[0m \u001b[0mkeras\u001b[0m\u001b[0;34m\u001b[0m\u001b[0m\n\u001b[0m",
      "\u001b[0;31mImportError\u001b[0m: No module named keras"
     ]
    }
   ],
   "source": [
    "import keras\n"
   ]
  }
 ],
 "metadata": {
  "kernelspec": {
   "display_name": "Python [conda env:anaconda]",
   "language": "python",
   "name": "conda-env-anaconda-py"
  },
  "language_info": {
   "codemirror_mode": {
    "name": "ipython",
    "version": 2
   },
   "file_extension": ".py",
   "mimetype": "text/x-python",
   "name": "python",
   "nbconvert_exporter": "python",
   "pygments_lexer": "ipython2",
   "version": "2.7.14"
  }
 },
 "nbformat": 4,
 "nbformat_minor": 2
}
